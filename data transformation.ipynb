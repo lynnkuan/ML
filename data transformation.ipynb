{
 "cells": [
  {
   "cell_type": "code",
   "execution_count": 13,
   "metadata": {},
   "outputs": [],
   "source": [
    "from sklearn.preprocessing import  MinMaxScaler, StandardScaler\n",
    "import pandas as pd \n",
    "import numpy as np \n",
    "from sklearn.preprocessing import OneHotEncoder, LabelEncoder"
   ]
  },
  {
   "cell_type": "code",
   "execution_count": 5,
   "metadata": {},
   "outputs": [
    {
     "data": {
      "text/plain": [
       "{'score': [234, 21, 14, 27, -74, 46, 73, -18, 59, 160]}"
      ]
     },
     "execution_count": 5,
     "metadata": {},
     "output_type": "execute_result"
    }
   ],
   "source": [
    "data = {'score':[234,21,14,27,-74,46,73,-18,59,160]}\n",
    "df = pd.DataFrame(data)\n",
    "data"
   ]
  },
  {
   "cell_type": "code",
   "execution_count": 10,
   "metadata": {},
   "outputs": [
    {
     "data": {
      "text/plain": [
       "0    1.000000\n",
       "1    0.308442\n",
       "2    0.285714\n",
       "3    0.327922\n",
       "4    0.000000\n",
       "5    0.389610\n",
       "6    0.477273\n",
       "7    0.181818\n",
       "8    0.431818\n",
       "9    0.759740\n",
       "Name: normalize, dtype: float64"
      ]
     },
     "execution_count": 10,
     "metadata": {},
     "output_type": "execute_result"
    }
   ],
   "source": [
    "#Normalization\n",
    "scaler = MinMaxScaler()\n",
    "df['normalize'] = scaler.fit_transform(df[['score']])\n",
    "df['normalize']"
   ]
  },
  {
   "cell_type": "code",
   "execution_count": 11,
   "metadata": {},
   "outputs": [
    {
     "data": {
      "text/plain": [
       "0    2.163415\n",
       "1   -0.399474\n",
       "2   -0.483700\n",
       "3   -0.327280\n",
       "4   -1.542547\n",
       "5   -0.098665\n",
       "6    0.226208\n",
       "7   -0.868735\n",
       "8    0.057755\n",
       "9    1.273022\n",
       "Name: standardized, dtype: float64"
      ]
     },
     "execution_count": 11,
     "metadata": {},
     "output_type": "execute_result"
    }
   ],
   "source": [
    "#stanardization\n",
    "scaler = StandardScaler()\n",
    "df['standardized'] = scaler.fit_transform(df[['score']])\n",
    "df['standardized']"
   ]
  },
  {
   "cell_type": "code",
   "execution_count": 18,
   "metadata": {},
   "outputs": [
    {
     "name": "stdout",
     "output_type": "stream",
     "text": [
      "[[0. 0. 1.]\n",
      " [1. 0. 0.]\n",
      " [0. 1. 0.]\n",
      " [1. 0. 0.]\n",
      " [0. 1. 0.]]\n",
      "[2 0 1 0 1]\n"
     ]
    },
    {
     "name": "stderr",
     "output_type": "stream",
     "text": [
      "/Users/kuan/anaconda3/lib/python3.11/site-packages/sklearn/preprocessing/_encoders.py:972: FutureWarning: `sparse` was renamed to `sparse_output` in version 1.2 and will be removed in 1.4. `sparse_output` is ignored unless you leave `sparse` to its default value.\n",
      "  warnings.warn(\n"
     ]
    }
   ],
   "source": [
    "#onehot encoding\n",
    "\n",
    "categories = ['red','blue','green','blue','green']\n",
    "\n",
    "encoder = OneHotEncoder(sparse=False)\n",
    "onehot = encoder.fit_transform(np.array(categories).reshape(-1,1))  #onehotencoder需要二維 行數不限=-1\n",
    "print(onehot)\n",
    "\n",
    "#label encoding\n",
    "\n",
    "labelencoder = LabelEncoder()\n",
    "label = labelencoder.fit_transform(categories)\n",
    "print(label)"
   ]
  },
  {
   "cell_type": "code",
   "execution_count": null,
   "metadata": {},
   "outputs": [],
   "source": []
  }
 ],
 "metadata": {
  "kernelspec": {
   "display_name": "base",
   "language": "python",
   "name": "python3"
  },
  "language_info": {
   "codemirror_mode": {
    "name": "ipython",
    "version": 3
   },
   "file_extension": ".py",
   "mimetype": "text/x-python",
   "name": "python",
   "nbconvert_exporter": "python",
   "pygments_lexer": "ipython3",
   "version": "3.11.5"
  }
 },
 "nbformat": 4,
 "nbformat_minor": 2
}
